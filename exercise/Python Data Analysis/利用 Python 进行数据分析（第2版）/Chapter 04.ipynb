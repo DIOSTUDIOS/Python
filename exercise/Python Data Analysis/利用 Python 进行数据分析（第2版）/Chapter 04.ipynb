{
 "cells": [
  {
   "cell_type": "code",
   "execution_count": 1,
   "id": "initial_id",
   "metadata": {
    "collapsed": true,
    "ExecuteTime": {
     "end_time": "2024-12-31T02:34:13.691322700Z",
     "start_time": "2024-12-31T02:34:08.446274300Z"
    }
   },
   "outputs": [
    {
     "name": "stdout",
     "output_type": "stream",
     "text": [
      "CPU times: total: 46.9 ms\n",
      "Wall time: 125 ms\n",
      "CPU times: total: 1.91 s\n",
      "Wall time: 4.16 s\n"
     ]
    }
   ],
   "source": [
    "import numpy as np\n",
    "\n",
    "\n",
    "myArr = np.arange(1000000)\n",
    "myList = list(range(1000000))\n",
    "\n",
    "%time for _ in range(10) : myArr2 = myArr * 2\n",
    "%time for _ in range(10) : myList2 = [x * 2 for x in myList]"
   ]
  },
  {
   "cell_type": "code",
   "execution_count": 5,
   "outputs": [
    {
     "data": {
      "text/plain": "array([[ 2.70929725,  0.1617173 , -2.46488152],\n       [-2.8241106 , -2.31843685, -2.03559063]])"
     },
     "execution_count": 5,
     "metadata": {},
     "output_type": "execute_result"
    }
   ],
   "source": [
    "import numpy as np\n",
    "\n",
    "\n",
    "data = np.random.randn(2, 3)\n",
    "# data\n",
    "# data * 10\n",
    "data + data"
   ],
   "metadata": {
    "collapsed": false,
    "ExecuteTime": {
     "end_time": "2024-12-31T02:54:28.551311800Z",
     "start_time": "2024-12-31T02:54:28.532818700Z"
    }
   },
   "id": "4622fb84c9dc4910"
  },
  {
   "cell_type": "code",
   "execution_count": 6,
   "outputs": [
    {
     "data": {
      "text/plain": "array([6.  , 6.34, 7.8 , 0.  , 1.  ])"
     },
     "execution_count": 6,
     "metadata": {},
     "output_type": "execute_result"
    }
   ],
   "source": [
    "import numpy as np\n",
    "\n",
    "\n",
    "data1 = [6, 6.34, 7.8, 0, 1]\n",
    "arr1 = np.array(data1)\n",
    "arr1"
   ],
   "metadata": {
    "collapsed": false,
    "ExecuteTime": {
     "end_time": "2024-12-31T02:57:29.194641100Z",
     "start_time": "2024-12-31T02:57:29.178140500Z"
    }
   },
   "id": "d08e0c316b6cbeb0"
  }
 ],
 "metadata": {
  "kernelspec": {
   "display_name": "Python 3",
   "language": "python",
   "name": "python3"
  },
  "language_info": {
   "codemirror_mode": {
    "name": "ipython",
    "version": 2
   },
   "file_extension": ".py",
   "mimetype": "text/x-python",
   "name": "python",
   "nbconvert_exporter": "python",
   "pygments_lexer": "ipython2",
   "version": "2.7.6"
  }
 },
 "nbformat": 4,
 "nbformat_minor": 5
}
